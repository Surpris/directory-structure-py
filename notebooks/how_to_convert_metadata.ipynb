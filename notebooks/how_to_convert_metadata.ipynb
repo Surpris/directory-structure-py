{
 "cells": [
  {
   "cell_type": "markdown",
   "metadata": {},
   "source": [
    "# Purpose\n",
    "\n",
    "This notebooks shows how to convert metadata by using the conversions function below:\n",
    "\n",
    "* `list2tree`\n",
    "* `convert_meta_list_json_to_rocrate`\n",
    "* `convert_meta_list_json_to_tsv`"
   ]
  },
  {
   "cell_type": "markdown",
   "metadata": {},
   "source": [
    "# import modules"
   ]
  },
  {
   "cell_type": "code",
   "execution_count": 1,
   "metadata": {},
   "outputs": [],
   "source": [
    "from pathlib import Path\n",
    "from rocrate.rocrate import ROCrate\n",
    "from directory_structure_py import get_metadata, conversion"
   ]
  },
  {
   "cell_type": "markdown",
   "metadata": {},
   "source": [
    "# get metadata of a given directory in a list format"
   ]
  },
  {
   "cell_type": "code",
   "execution_count": null,
   "metadata": {},
   "outputs": [],
   "source": [
    "folder_path: str = \"./\"  # replace this with your target directory path\n",
    "\n",
    "metadata: dict = get_metadata.get_metadata_of_files_in_list_format(folder_path)\n",
    "\n",
    "metadata"
   ]
  },
  {
   "cell_type": "markdown",
   "metadata": {},
   "source": [
    "# Usage of conversion functions"
   ]
  },
  {
   "cell_type": "markdown",
   "metadata": {},
   "source": [
    "## conversion into a tree format\n",
    "\n",
    "``\n",
    "`conversion.list2tree()` converts the list-format metadata into a tree-format one."
   ]
  },
  {
   "cell_type": "code",
   "execution_count": null,
   "metadata": {},
   "outputs": [],
   "source": [
    "metadata_in_tree: dict = conversion.list2tree(metadata)\n",
    "\n",
    "metadata_in_tree"
   ]
  },
  {
   "cell_type": "markdown",
   "metadata": {},
   "source": [
    "## conversion into the RO-Crate format\n",
    "\n",
    "`conversion.convert_meta_list_json_to_rocrate` converts the list-format metadata into a RO-Crate-format one."
   ]
  },
  {
   "cell_type": "code",
   "execution_count": 4,
   "metadata": {},
   "outputs": [],
   "source": [
    "metadata_in_rocrate: ROCrate = conversion.convert_meta_list_json_to_rocrate(metadata)"
   ]
  },
  {
   "cell_type": "code",
   "execution_count": null,
   "metadata": {},
   "outputs": [],
   "source": [
    "metadata_in_rocrate.data_entities"
   ]
  },
  {
   "cell_type": "code",
   "execution_count": null,
   "metadata": {},
   "outputs": [],
   "source": [
    "metadata_in_rocrate.data_entities[0].as_jsonld()"
   ]
  },
  {
   "cell_type": "markdown",
   "metadata": {},
   "source": [
    "## conversion into a TSV format\n",
    "\n",
    "`conversion.convert_meta_list_json_to_tsv()` converts the list-format metadata into a TSV-format one."
   ]
  },
  {
   "cell_type": "code",
   "execution_count": null,
   "metadata": {},
   "outputs": [],
   "source": [
    "metadata_in_tsv: list = conversion.convert_meta_list_json_to_tsv(metadata)\n",
    "\n",
    "metadata_in_tsv"
   ]
  }
 ],
 "metadata": {
  "kernelspec": {
   "display_name": "dir_struct_py",
   "language": "python",
   "name": "python3"
  },
  "language_info": {
   "codemirror_mode": {
    "name": "ipython",
    "version": 3
   },
   "file_extension": ".py",
   "mimetype": "text/x-python",
   "name": "python",
   "nbconvert_exporter": "python",
   "pygments_lexer": "ipython3",
   "version": "3.12.7"
  }
 },
 "nbformat": 4,
 "nbformat_minor": 2
}
