{
 "cells": [
  {
   "cell_type": "markdown",
   "metadata": {},
   "source": [
    "# Purpose\n",
    "\n",
    "This notebooks shows how to get metadata by using the core functions."
   ]
  },
  {
   "cell_type": "markdown",
   "metadata": {},
   "source": [
    "# import modules"
   ]
  },
  {
   "cell_type": "code",
   "execution_count": 2,
   "metadata": {},
   "outputs": [],
   "source": [
    "import os\n",
    "from directory_structure_py import get_metadata"
   ]
  },
  {
   "cell_type": "markdown",
   "metadata": {},
   "source": [
    "# Usage"
   ]
  },
  {
   "cell_type": "markdown",
   "metadata": {},
   "source": [
    "## get metadata of a single file\n",
    "\n",
    "`get_metadata.get_metadata_of_single_file()` collects file metadata and returns the result in a dict format.\n",
    "The result contains the following:\n",
    "\n",
    "\n",
    "```json\n",
    "{\n",
    "    \"@id\": \"id unique in the metadata tree\",\n",
    "    \"type\": \"File\",\n",
    "    \"parent\": \"parent directory info including '@id'\",\n",
    "    \"basename\": \"basename (ex. test.dat)\",\n",
    "    \"name\": \"file name (ex. test.dat -> test)\",\n",
    "    \"extension\": \"file extension (ex. test.dat -> .dat)\",\n",
    "    \"mimetype\": \"MIME type\",\n",
    "    \"contentSize\": \"file size (Byte)\",\n",
    "    \"sha256\": \"SHA-256 hash value\",\n",
    "    \"dateCreated\": \"creation datetime (%Y-%m-%dT%H:%M:%S)\",\n",
    "    \"dateModified\": \"modification datetime (%Y-%m-%dT%H:%M:%S)\"\n",
    "}\n",
    "```"
   ]
  },
  {
   "cell_type": "code",
   "execution_count": 3,
   "metadata": {},
   "outputs": [],
   "source": [
    "file_path: str = \"../README.md\"\n",
    "if not os.path.exists(file_path):\n",
    "    file_path = input(\"Enter the path to the file: \")\n",
    "if not os.path.exists(file_path):\n",
    "    raise FileNotFoundError(f\"File not found: {file_path}\")"
   ]
  },
  {
   "cell_type": "code",
   "execution_count": null,
   "metadata": {},
   "outputs": [],
   "source": [
    "metadata: dict = get_metadata.get_metadata_of_single_file(file_path)\n",
    "\n",
    "metadata"
   ]
  },
  {
   "cell_type": "markdown",
   "metadata": {},
   "source": [
    "## get metadata of a single directory\n",
    "\n",
    "`get_metadata.get_metadata_of_single_directory()` collects directory metadata and returns the result in a dict format.\n",
    "The result contains the following:\n",
    "\n",
    "```json\n",
    "// for Directory\n",
    "{\n",
    "    \"@id\": \"id unique in the metadata tree\",\n",
    "    \"type\": \"Directory\",\n",
    "    \"parent\": \"parent directory info including '@id'\",\n",
    "    \"basename\": \"basename (ex. test.dat)\",\n",
    "    \"name\": \"directory name (same as the basename)\",\n",
    "    \"hasPart\": [\"`@id` or metadata of file or directory\"],\n",
    "    \"contentSize\": \"the total size of files included (Byte)\",\n",
    "    \"extension\": [\"unique file extension (ex. test.dat -> .dat)\"],\n",
    "    \"mimetype\": [\"unique MIME type\"],\n",
    "    \"numberOfContents\": \"the number of child contents\",\n",
    "    \"numberOfFiles\": \"the number of child files\",\n",
    "    \"numberOfFilesPerExtension\": {\"key = extension\": \"value = the number of files with the extension\"},\n",
    "    \"contentSizeOfAllFiles\": \"The total size of files within the directory and all its descendant directories in bytes\",\n",
    "    \"numberOfAllContents\": \"The total number of child items (files and subdirectories) within the directory and all its descendant directories\",\n",
    "    \"numberOfAllFiles\": \"The total number of files within the directory and all its descendant directories\",\n",
    "    \"numberOfAllFilesPerExtension\": {\"key = extension\": \"value = the number of the descendant files with the extension\"},\n",
    "    \"extensionsOfAllFiles\": [\"unique file extension (ex. test.dat -> .dat) extracted from the descendant files\"],\n",
    "    \"dateCreated\": \"creation datetime (%Y-%m-%dT%H:%M:%S)\",\n",
    "    \"dateModified\": \"modification datetime (%Y-%m-%dT%H:%M:%S)\",\n",
    "}\n",
    "```"
   ]
  },
  {
   "cell_type": "code",
   "execution_count": null,
   "metadata": {},
   "outputs": [],
   "source": [
    "folder_path: str = \"./\"  # replace this with your target directory path\n",
    "\n",
    "metadata: dict = get_metadata.get_metadata_of_single_directory(folder_path)\n",
    "\n",
    "metadata"
   ]
  },
  {
   "cell_type": "markdown",
   "metadata": {},
   "source": [
    "## get the metadata list of the given directory\n",
    "\n",
    "`get_metadata.get_metadata_of_files_in_list_format()` collects a set of metadata of the files and directories in the given directory."
   ]
  },
  {
   "cell_type": "code",
   "execution_count": null,
   "metadata": {},
   "outputs": [],
   "source": [
    "folder_path: str = \"../\"  # replace this with your target directory path\n",
    "\n",
    "metadata: dict = get_metadata.get_metadata_of_files_in_list_format(folder_path)\n",
    "\n",
    "metadata"
   ]
  }
 ],
 "metadata": {
  "kernelspec": {
   "display_name": "dir_struct_py",
   "language": "python",
   "name": "python3"
  },
  "language_info": {
   "codemirror_mode": {
    "name": "ipython",
    "version": 3
   },
   "file_extension": ".py",
   "mimetype": "text/x-python",
   "name": "python",
   "nbconvert_exporter": "python",
   "pygments_lexer": "ipython3",
   "version": "3.12.7"
  }
 },
 "nbformat": 4,
 "nbformat_minor": 2
}
